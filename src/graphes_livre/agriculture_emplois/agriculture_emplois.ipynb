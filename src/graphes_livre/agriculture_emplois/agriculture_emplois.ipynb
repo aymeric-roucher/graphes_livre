{
 "cells": [
  {
   "cell_type": "markdown",
   "metadata": {},
   "source": [
    "Source for data: https://ourworldindata.org/grapher/number-of-people-employed-in-agriculture"
   ]
  },
  {
   "cell_type": "code",
   "execution_count": null,
   "metadata": {},
   "outputs": [],
   "source": [
    "import pandas as pd\n",
    "import plotly.express as px\n",
    "from graphes_livre import apply_template\n",
    "\n",
    "BEGIN_YEAR = 1900"
   ]
  },
  {
   "cell_type": "code",
   "execution_count": null,
   "metadata": {},
   "outputs": [],
   "source": [
    "df = pd.read_csv(\"data/number-of-people-employed-in-agriculture.csv\")\n",
    "display(df)\n",
    "df.dtypes"
   ]
  },
  {
   "cell_type": "code",
   "execution_count": null,
   "metadata": {},
   "outputs": [],
   "source": [
    "selected_countries = [\"France\", \"Japan\", \"Spain\", \"United States\", \"United Kingdom\"]\n",
    "df = df.loc[(df[\"Entity\"].isin(selected_countries)) & (df[\"Year\"] >= 1900)]\n",
    "df[\"Entity\"] = df[\"Entity\"].map(\n",
    "    {\n",
    "        \"Japan\": \"Japon\",\n",
    "        \"France\": \"France\",\n",
    "        \"Spain\": \"Espagne\",\n",
    "        \"United Kingdom\": \"Royaume-Uni\",\n",
    "        \"United States\": \"Etats-Unis\",\n",
    "    }\n",
    ")"
   ]
  },
  {
   "cell_type": "code",
   "execution_count": null,
   "metadata": {},
   "outputs": [],
   "source": [
    "fig = px.line(\n",
    "    x=df[\"Year\"],\n",
    "    y=df[\"number_employed_agri\"] / 1e6,\n",
    "    color=df[\"Entity\"],\n",
    ")\n",
    "\n",
    "apply_template(fig)\n",
    "# Update layout\n",
    "fig.update_layout(width=700, height=450, showlegend=False, xaxis_title=None)\n",
    "fig.update_yaxes(\n",
    "    title=\"Nombre d'employés (millions)\",\n",
    "    range=[0, 18],\n",
    "    tickvals=[5, 10, 15],\n",
    "    ticktext=[\"5\", \"10\", \"15\"],\n",
    ")\n",
    "# Show the plot\n",
    "fig.write_html(\"agriculture_emplois.html\")\n",
    "fig.show()"
   ]
  },
  {
   "cell_type": "code",
   "execution_count": null,
   "metadata": {},
   "outputs": [],
   "source": []
  }
 ],
 "metadata": {
  "kernelspec": {
   "display_name": "test",
   "language": "python",
   "name": "python3"
  },
  "language_info": {
   "codemirror_mode": {
    "name": "ipython",
    "version": 3
   },
   "file_extension": ".py",
   "mimetype": "text/x-python",
   "name": "python",
   "nbconvert_exporter": "python",
   "pygments_lexer": "ipython3",
   "version": "3.13.5"
  }
 },
 "nbformat": 4,
 "nbformat_minor": 2
}
