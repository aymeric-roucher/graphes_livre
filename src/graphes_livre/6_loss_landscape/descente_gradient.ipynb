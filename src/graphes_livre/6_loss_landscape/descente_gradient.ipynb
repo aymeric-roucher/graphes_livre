{
 "cells": [
  {
   "cell_type": "code",
   "execution_count": null,
   "metadata": {},
   "outputs": [],
   "source": "import numpy as np\nimport matplotlib.pyplot as plt\nfrom mpl_toolkits.mplot3d import Axes3D\nfrom utils import get_output_path\n\n\ndef multivariate_gaussian(x, y, mx, my, sx, sy):\n    return np.exp(-((x - mx) ** 2 / (2 * sx**2) + (y - my) ** 2 / (2 * sy**2)))\n\n\ndef create_landscape():\n    x = np.linspace(-7, 6, 100)\n    y = np.linspace(-6, 7, 100)\n    X, Y = np.meshgrid(x, y)\n\n    # More complex landscape with multiple Gaussians\n    Z = -1.2 * multivariate_gaussian(X, Y, -3, 3, 1.2, 1.2)  # Deep minimum\n    Z += 1.7 * multivariate_gaussian(X, Y, 2, 2, 1, 1)  # High peak\n    Z -= 0.2 * multivariate_gaussian(X, Y, 0, 0, 1.2, 1.2)  # Saddle point\n    Z += 1.4 * multivariate_gaussian(X, Y, -1, -1, 1, 1.4)  # Additional peak\n    Z += -0.6 * multivariate_gaussian(X, Y, -3, -1, 1.4, 0.7)  # Additional valley\n    Z += 0.8 * multivariate_gaussian(X, Y, -4, 1, 3, 0.8)  # Small peak\n    Z += 0.7 * multivariate_gaussian(X, Y, 4, -4, 1.2, 1.2)  # Small peak\n\n    return X, Y, Z\n\n\ndef plot_3d_landscape():\n    X, Y, Z = create_landscape()\n\n    fig = plt.figure(figsize=(12, 8))\n    ax = fig.add_subplot(111, projection=\"3d\")\n\n    # Plot surface with semi-transparent grid\n    ax.plot_surface(X, Y, Z, cmap=\"rainbow\", linewidth=2, alpha=1, antialiased=True)\n\n    ax.set_zlim(-3, 3)\n\n    # Customize grid appearance\n    # Make background fully transparent\n    ax.xaxis.pane.fill = False\n    ax.yaxis.pane.fill = False\n    ax.zaxis.pane.fill = False\n\n    # Make grid very transparent\n    ax.grid(alpha=0.1)\n    ax.xaxis._alpha = 0.1\n    ax.yaxis._alpha = 0.1\n    ax.zaxis._alpha = 0.1\n\n    # Set labels\n    ax.set_xlabel(\"X\")\n    ax.set_ylabel(\"Y\")\n    ax.set_zlabel(\"Z\")\n\n    # Adjust viewing angle for better visualization\n    ax.view_init(elev=20, azim=165)\n    plt.savefig(get_output_path(\"png\"), dpi=300, bbox_inches=\"tight\", transparent=True)\n\n    plt.show()\n\n\n# Generate and display the plot\nplot_3d_landscape()"
  },
  {
   "cell_type": "code",
   "execution_count": null,
   "metadata": {},
   "outputs": [],
   "source": []
  }
 ],
 "metadata": {
  "kernelspec": {
   "display_name": "3.12.0",
   "language": "python",
   "name": "python3"
  },
  "language_info": {
   "codemirror_mode": {
    "name": "ipython",
    "version": 3
   },
   "file_extension": ".py",
   "mimetype": "text/x-python",
   "name": "python",
   "nbconvert_exporter": "python",
   "pygments_lexer": "ipython3",
   "version": "3.12.0"
  }
 },
 "nbformat": 4,
 "nbformat_minor": 2
}