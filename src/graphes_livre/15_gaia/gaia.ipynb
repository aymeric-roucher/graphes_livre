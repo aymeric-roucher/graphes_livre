{
 "cells": [
  {
   "cell_type": "code",
   "execution_count": null,
   "metadata": {},
   "outputs": [],
   "source": [
    "!pip install scipy kaleido"
   ]
  },
  {
   "cell_type": "code",
   "execution_count": null,
   "metadata": {},
   "outputs": [],
   "source": "import numpy as np\nimport plotly.graph_objects as go\nfrom utils import apply_template, get_output_path\n\n\n# Sigmoid function\ndef sigmoid(x, a, b):\n    return 1 / (1 + np.exp(-(a * x + b)))\n\n\n# Define your two points (x1, y1) and (x2, y2)\nx2, y2 = 3.8 * 1e25, 0.40  # Point 2 for Llama-3.1-405B\nx1, y1 = (\n    x2 * 7 / 30.84,\n    0.25,\n)  # Point 1 from Llama-3.1 70B, on this page for the rule of 3: https://huggingface.co/meta-llama/Meta-Llama-3.1-70B-Instruct\nx0, y0 = (\n    x2 * 1.46 / 30.84,\n    0.0,\n)  # Point 0 from Llama-3.1 8B, on this page for the rule of 3: https://huggingface.co/meta-llama/Meta-Llama-3.1-70B-Instruct\n\nx1_log, x2_log = np.log(x1), np.log(x2)\n\na = (-np.log(1 / y1 - 1) + np.log(1 / y2 - 1)) / (x1_log - x2_log)\nb = -np.log(1 / y2 - 1) - a * x2_log\n\n\n# Generate x values for the plot (log scale)\nx_values = np.exp(np.linspace(np.log(x1) - 10, np.log(x2) + 10, 500, endpoint=True))\n\n# Calculate the corresponding y values using the fitted sigmoid function\ny_values = np.array([sigmoid(np.log(x), a, b) for x in x_values])\n\n# Plot using Plotly\nfig = go.Figure()\n\n# Add the sigmoid curve\nfig.add_trace(\n    go.Scatter(x=x_values, y=y_values, mode=\"lines\", name=\"Courbe en S extrapolée\")\n)\n\n# Add the original points\nfig.add_trace(\n    go.Scatter(\n        x=[x1, x2],\n        y=[y1, y2],\n        mode=\"markers\",\n        name=\"Points de référence\",\n        marker=dict(size=15),\n    )\n)\n\n# Update the layout to set log scale for x-axis\nfig.update_layout(\n    # title=\"Lois d'échelle pour la performance sur GAIA\",\n    xaxis=dict(type=\"log\", title=\"Training compute\"),\n    yaxis=dict(title=\"Score\", range=[0, 1], tickformat=\",.0%\"),\n    showlegend=True,\n)\napply_template(fig)\n\n# Show the plot\nfig.show()"
  },
  {
   "cell_type": "markdown",
   "metadata": {},
   "source": [
    "# Compute calculations"
   ]
  },
  {
   "cell_type": "code",
   "execution_count": null,
   "metadata": {},
   "outputs": [],
   "source": [
    "throughput = 400 * 1e12  # 400 TFLOPs, given by Karpathy\n",
    "\n",
    "hours_llama3_405 = 39.3 * 1e6\n",
    "\n",
    "hours_in_year = 24 * 365.25\n",
    "\n",
    "GROWTH = 1e5"
   ]
  },
  {
   "cell_type": "code",
   "execution_count": null,
   "metadata": {},
   "outputs": [],
   "source": [
    "hours_llama3_405 / hours_in_year * GROWTH / 1e6"
   ]
  },
  {
   "cell_type": "code",
   "execution_count": null,
   "metadata": {},
   "outputs": [],
   "source": [
    "10**0.15"
   ]
  },
  {
   "cell_type": "code",
   "execution_count": null,
   "metadata": {},
   "outputs": [],
   "source": [
    "sales = [2]\n",
    "\n",
    "for year in range(2025, 2031):\n",
    "    sales.append(sales[-1] * 2.3)\n",
    "\n",
    "sum(sales)"
   ]
  },
  {
   "cell_type": "code",
   "execution_count": null,
   "metadata": {},
   "outputs": [],
   "source": [
    "sales = [2]\n",
    "for year in range(2025, 2031):\n",
    "    sales.append(sales[-1] * 1.6 * 10**0.15)\n",
    "\n",
    "sum(sales)"
   ]
  },
  {
   "cell_type": "code",
   "execution_count": null,
   "metadata": {},
   "outputs": [],
   "source": [
    "import numpy as np\n",
    "\n",
    "np.log(450 / 2) / np.log(3)"
   ]
  },
  {
   "cell_type": "code",
   "execution_count": null,
   "metadata": {},
   "outputs": [],
   "source": [
    "np.log(450 / 2) / np.log(3 + 10**0.15)"
   ]
  },
  {
   "cell_type": "markdown",
   "metadata": {},
   "source": [
    "### Time law GAIA"
   ]
  },
  {
   "cell_type": "code",
   "execution_count": null,
   "metadata": {},
   "outputs": [],
   "source": "import numpy as np\nimport pandas as pd\nimport plotly.graph_objects as go\nfrom datetime import datetime, timedelta\nfrom scipy.optimize import curve_fit\nfrom utils import apply_template, get_output_path\n\ndata = pd.DataFrame(\n    [\n        # [\"GPT-4-Turbo\", \"2023-11-14\", 6.7],\n        # [\"GPT-4-Turbo\", \"2024-02-22\", 12.96],\n        [\"GPT-4-Turbo - FRIDAY\", \"2024-01-24\", 24],\n        [\"GPT-4o - smolagents\", \"2024-06-27\", 33],\n        [\"GPT-4o - Dynasaur\", \"2024-10-04\", 38.21],\n        [\"Claude-3.5 - Langfun\", \"2024-12-02\", 49.3],\n        [\"Claude-3.5 - h2oGPTe\", \"2025-01-29\", 65],\n        [\"Claude-3.7 - h2oGPTe\", \"2025-03-20\", 74],\n        [\"o3 - Shu Zero\", \"2025-06-26\", 80.4],\n    ],\n    columns=[\"model\", \"date\", \"score\"],\n)\n\n# Convert dates to datetime\ndata[\"date\"] = pd.to_datetime(data[\"date\"])\n\n# Convert dates to numerical values for fitting\nbase_date = datetime(2022, 1, 1)\nx_data = np.array([(date - base_date).days for date in data[\"date\"]])\ny_data = np.array(data[\"score\"].values)\n\nSEA_BLUE = \"rgba(0,100,255,0.5)\"\n\n\n# Proper 0-100 sigmoid function with just midpoint and width\ndef sigmoid(x, x0, k):\n    return 100 / (1 + np.exp(-k * (x - x0)))\n\n\n# Fit sigmoid curve with just two parameters\np0 = [np.mean(x_data), 0.002]  # Initial parameters guess: [midpoint, steepness]\npopt, _ = curve_fit(sigmoid, x_data, y_data, p0=p0, maxfev=5000)\n\n# Generate smooth curve going far enough to see it reach ~95\nx_smooth = np.linspace(min(x_data) - 500, max(x_data) + 1200, 1000)\ny_smooth = sigmoid(x_smooth, *popt)\n\n# Convert back to dates for plotting\ndates_smooth = [base_date + timedelta(days=int(x)) for x in x_smooth]\n\n# Create the plot\nfig = go.Figure()\n\n# Add the sigmoid curve\nfig.add_trace(\n    go.Scatter(\n        x=dates_smooth,\n        y=y_smooth,\n        mode=\"lines\",\n        name=\"Courbe sigmoide ajustée\",\n        line=dict(color=SEA_BLUE),\n        showlegend=False,\n    )\n)\n\n# Add a horizontal dashed black line at y=92%\nfig.add_trace(\n    go.Scatter(\n        x=[dates_smooth[0], dates_smooth[-1]],\n        y=[92, 92],\n        mode=\"lines\",\n        name=\"Ligne 92%\",\n        line=dict(color=\"black\", dash=\"dash\"),\n        showlegend=False,\n    )\n)\n\n# Add the 92% intersection point\nfig.add_trace(\n    go.Scatter(\n        x=[2025],\n        y=[93],\n        mode=\"text\",\n        name=\"Atteinte des 92%\",\n        marker=dict(size=10, color=\"black\", symbol=\"square\"),\n        text=[f\"Performance humaine: 92%\"],\n        textposition=\"top center\",\n        textfont=dict(size=13),\n        showlegend=False,\n    )\n)\n# Add the data points\nfig.add_trace(\n    go.Scatter(\n        x=data[\"date\"],\n        y=data[\"score\"],\n        mode=\"markers\",\n        name=\"Performance du meilleur agent\",\n        text=data[\"model\"],\n        textposition=\"top center\",\n        marker=dict(size=12, color=SEA_BLUE),\n        textfont=dict(size=11),\n        showlegend=False,\n    )\n)\n\nx_years = [2024, 2025, 2026]\nx_ticks = [datetime(year, 1, 1) for year in x_years]\n\nfig.update_layout(\n    # title=\"Performance des assistants généralistes au fil du temps\",\n    # xaxis_title=\"Année\",\n    yaxis_title=dict(text=\"Score\", font_weight=\"bold\"),\n    yaxis=dict(range=[0, 101], tickformat=\",d\"),\n    xaxis=dict(\n        range=[datetime(2023, 7, 15), datetime(2026, 10, 31)],\n        tickvals=x_ticks,\n        tickformat=\"%Y\",\n    ),\n    showlegend=True,\n    template=\"plotly_white\",\n)\n\n# Add grid\nfig.update_xaxes(\n    showgrid=True, gridwidth=2, showticklabels=True, ticks=\"outside\", tickwidth=1\n)\nfig.update_yaxes(\n    showgrid=True,\n    gridcolor=\"LightGrey\",\n)\napply_template(fig, width=600, height=500)\n\n\nfig.write_html(get_output_path(\"html\"))\n\nfig.show()"
  },
  {
   "cell_type": "code",
   "execution_count": null,
   "metadata": {},
   "outputs": [],
   "source": [
    "# Create the plot\n",
    "fig = go.Figure()\n",
    "\n",
    "# Add the sigmoid curve\n",
    "fig.add_trace(\n",
    "    go.Scatter(\n",
    "        x=dates_smooth,\n",
    "        y=y_smooth,\n",
    "        mode=\"lines\",\n",
    "        name=\"Fitted sigmoid curve\",\n",
    "        line=dict(color=\"rgba(0,100,255,0.5)\", dash=\"dash\"),\n",
    "    )\n",
    ")\n",
    "\n",
    "# Add the 92% intersection point\n",
    "fig.add_trace(\n",
    "    go.Scatter(\n",
    "        x=[date_92],\n",
    "        y=[92],\n",
    "        mode=\"markers+text\",\n",
    "        name=\"Human baseline: 92%\",\n",
    "        marker=dict(size=15, color=\"black\", symbol=\"diamond\"),\n",
    "        text=[\"92% : human baseline\"],\n",
    "        textposition=\"top center\",\n",
    "        textfont=dict(size=14),\n",
    "    )\n",
    ")\n",
    "\n",
    "# Add the data points\n",
    "fig.add_trace(\n",
    "    go.Scatter(\n",
    "        x=data[\"date\"],\n",
    "        y=data[\"score\"],\n",
    "        mode=\"markers+text\",\n",
    "        name=\"Best agent's performance\",\n",
    "        text=data[\"model\"],\n",
    "        textposition=\"top center\",\n",
    "        marker=dict(size=10, color=\"rgba(0,0,0,0.7)\"),\n",
    "        textfont=dict(size=11),\n",
    "    )\n",
    ")\n",
    "\n",
    "# Update layout\n",
    "fig.update_layout(\n",
    "    title=\"GAIA scores through time\",\n",
    "    xaxis_title=\"Year\",\n",
    "    yaxis_title=\"Score\",\n",
    "    yaxis=dict(range=[0, 101], tickformat=\",d\"),\n",
    "    showlegend=True,\n",
    "    template=\"plotly_white\",\n",
    "    height=600,\n",
    "    width=1000,\n",
    ")\n",
    "\n",
    "# Add grid\n",
    "fig.update_xaxes(showgrid=True, gridwidth=1, gridcolor=\"LightGrey\")\n",
    "fig.update_yaxes(showgrid=True, gridwidth=1, gridcolor=\"LightGrey\")\n",
    "\n",
    "fig.update_layout(\n",
    "    font=dict(size=14),\n",
    "    title=dict(font=dict(size=18)),  # Title font size (14 + 2)\n",
    "    xaxis=dict(title=dict(font=dict(size=16)), tickfont=dict(size=15)),\n",
    "    yaxis=dict(title=dict(font=dict(size=16)), tickfont=dict(size=14)),\n",
    "    legend=dict(font=dict(size=12)),\n",
    ")\n",
    "fig.show()"
   ]
  },
  {
   "cell_type": "code",
   "execution_count": null,
   "metadata": {},
   "outputs": [],
   "source": []
  }
 ],
 "metadata": {
  "kernelspec": {
   "display_name": "test",
   "language": "python",
   "name": "test"
  },
  "language_info": {
   "codemirror_mode": {
    "name": "ipython",
    "version": 3
   },
   "file_extension": ".py",
   "mimetype": "text/x-python",
   "name": "python",
   "nbconvert_exporter": "python",
   "pygments_lexer": "ipython3",
   "version": "3.13.5"
  }
 },
 "nbformat": 4,
 "nbformat_minor": 2
}