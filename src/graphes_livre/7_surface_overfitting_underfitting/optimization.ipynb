{
 "cells": [
  {
   "cell_type": "code",
   "execution_count": null,
   "metadata": {},
   "outputs": [],
   "source": "!pip install geopandas plotly -q"
  },
  {
   "cell_type": "code",
   "execution_count": null,
   "metadata": {},
   "outputs": [],
   "source": "import torch\nimport torch.nn as nn\nimport torch.optim as optim\nimport geopandas as gpd\nimport numpy as np\nfrom shapely.geometry import Point\nfrom graphes_livre import get_output_path\n\n\n# Generate random points and classify them as inside or outside France\ndef generate_random_points_and_labels(france, n_points=1000):\n    # Generate random points (longitude, latitude) within a certain range\n    longitudes = np.random.uniform(-5, 10, n_points)\n    latitudes = np.random.uniform(41, 52, n_points)\n    points = gpd.GeoDataFrame(\n        geometry=[Point(x, y) for x, y in zip(longitudes, latitudes)]\n    )\n\n    # Check if each point is inside the France polygon\n    points[\"in_france\"] = points.within(france.unary_union)\n\n    # Convert points to tensors\n    data = torch.tensor(\n        [[point.x, point.y] for point in points.geometry], dtype=torch.float32\n    )\n    labels = torch.tensor(\n        points[\"in_france\"].astype(int).values, dtype=torch.float32\n    ).unsqueeze(1)\n\n    return points, data, labels\n\n\nN_RANDOM_POINTS = 3000\n\n# Load the GeoJSON file for France\nfrance = gpd.read_file(\"metropole-simplifiee.geojson\")\n\n# Generate random points and labels\nrandom_points, random_points_data, random_points_labels = (\n    generate_random_points_and_labels(france, n_points=N_RANDOM_POINTS)\n)\n\nrandom_points[\"longitude\"] = random_points[\"geometry\"].apply(lambda x: x.x)\nrandom_points[\"latitude\"] = random_points[\"geometry\"].apply(lambda x: x.y)"
  },
  {
   "cell_type": "code",
   "execution_count": null,
   "metadata": {},
   "outputs": [],
   "source": [
    "from tqdm import tqdm\n",
    "import matplotlib.pyplot as plt\n",
    "\n",
    "\n",
    "class SimpleNN(nn.Module):\n",
    "    def __init__(self, input_size, hidden_size, output_size):\n",
    "        super(SimpleNN, self).__init__()\n",
    "        self.fc1 = nn.Linear(input_size, hidden_size)\n",
    "        self.fc2 = nn.Linear(hidden_size, hidden_size)\n",
    "        self.fc3 = nn.Linear(hidden_size, hidden_size)\n",
    "        self.fc4 = nn.Linear(hidden_size, hidden_size)\n",
    "        self.fc5 = nn.Linear(hidden_size, output_size)\n",
    "        self.sigmoid = nn.Sigmoid()\n",
    "\n",
    "    def forward(self, x):\n",
    "        x = torch.relu(self.fc1(x))\n",
    "        x = torch.relu(self.fc2(x))\n",
    "        x = torch.relu(self.fc3(x))\n",
    "        x = torch.relu(self.fc4(x))\n",
    "        x = self.sigmoid(self.fc5(x))\n",
    "        return x\n",
    "\n",
    "\n",
    "# Define model parameters\n",
    "input_size = 2  # Longitude and Latitude\n",
    "hidden_size = 30  # Number of neurons in the hidden layer\n",
    "output_size = 1  # Output size (1 neuron for binary classification)\n",
    "\n",
    "# Instantiate the model\n",
    "model = SimpleNN(input_size, hidden_size, output_size)\n",
    "\n",
    "# Define the loss function and optimizer\n",
    "criterion = nn.BCELoss()  # Binary Cross Entropy Loss\n",
    "learning_rate = 5e-4\n",
    "optimizer = optim.Adam(model.parameters(), lr=learning_rate)\n",
    "\n",
    "# Training loop\n",
    "num_epochs = 100000\n",
    "lr_scheduler = torch.optim.lr_scheduler.CosineAnnealingLR(\n",
    "    optimizer, T_max=num_epochs, eta_min=learning_rate / 10, last_epoch=-1\n",
    ")\n",
    "pbar = tqdm(range(num_epochs))\n",
    "losses = []\n",
    "for epoch in pbar:\n",
    "    # Forward pass\n",
    "    outputs = model(random_points_data)\n",
    "    loss = criterion(outputs, random_points_labels)\n",
    "\n",
    "    # Backward pass and optimization\n",
    "    optimizer.zero_grad()\n",
    "    loss.backward()\n",
    "    optimizer.step()\n",
    "    lr_scheduler.step()\n",
    "\n",
    "    epoch_step = 100\n",
    "    if (epoch + 1) % epoch_step == 0:\n",
    "        pbar.set_description(\n",
    "            f\"Epoch [{epoch + 1}/{num_epochs}], Loss: {loss.item():.4f}\"\n",
    "        )\n",
    "        losses.append(loss.item())\n",
    "\n",
    "plt.plot(losses)"
   ]
  },
  {
   "cell_type": "code",
   "execution_count": null,
   "metadata": {},
   "outputs": [],
   "source": "from PIL import Image\n\n\ndef crop_to_half_size(image_path, output_path, margin_sides=300, margin_top=200):\n    \"\"\"\n    Crop an image to half its original size with optional margins.\n\n    Args:\n        image_path: Path to input image\n        output_path: Path to save cropped image\n        margin_sides: Horizontal margin from sides (positive = move inward)\n        margin_top: Vertical margin from top (positive = move down)\n    \"\"\"\n    # Open the image\n    img = Image.open(image_path)\n\n    # Get original dimensions\n    width, height = img.size\n\n    target_width = width // 2\n    target_height = height // 2\n\n    left = (width - target_width) // 2 - margin_sides\n    top = (height - target_height) // 2 + margin_top\n\n    right = left + target_width + 2 * margin_sides\n    bottom = top + target_height\n\n    left = max(0, left)\n    top = max(0, top)\n    right = min(width, right)\n    bottom = min(height, bottom)\n\n    cropped_img = img.crop((left, top, right, bottom))\n\n    # Save the result\n    cropped_img.save(output_path)\n\n\nimport plotly.graph_objs as go\n\n\n# Set the same camera view and aspect ratio\ncamera = dict(eye=dict(x=0.2, y=-2, z=1))\naspectratio = dict(x=1, y=1, z=0.2)\n\n\nzaxis_settings = dict(\n    title=\"Valeur réelle\",\n    range=[0, 1],\n    tickvals=[0, 0.5, 1],  # Set specific tick values\n    ticktext=[\"0\", \"0.5\", \"1\"],  # Set tick labels\n    gridcolor=\"lightgrey\",  # Color of the grid lines\n    gridwidth=2,\n)\n\nscene_config = dict(\n    xaxis_title=\"Longitude\",\n    yaxis_title=\"Latitude\",\n    zaxis=zaxis_settings,\n    aspectratio=aspectratio,\n    camera=camera,\n    xaxis=dict(backgroundcolor=\"rgba(0, 0, 0, 0)\", showbackground=False),\n    yaxis=dict(backgroundcolor=\"rgba(0, 0, 0, 0)\", showbackground=False),\n)\n\n# First figure: Scatter3D plot\nfig1 = go.Figure()\n\n# Scatter points\nscatter = go.Scatter3d(\n    x=[point.x for point in random_points[\"geometry\"]],\n    y=[point.y for point in random_points[\"geometry\"]],\n    z=random_points[\"in_france\"] * 0.9 + 0.1,\n    mode=\"markers\",\n    marker=dict(\n        size=3,\n        color=[\"red\" if point else \"blue\" for point in random_points[\"in_france\"]],\n        opacity=1.0,  # Add some transparency if needed\n    ),\n)\n\n\nfig1.add_trace(scatter)\n\nfig1.update_layout(\n    scene=scene_config,\n    height=700,\n    width=900,\n)\n\nfig1.show()\nobjectif_path = get_output_path(\"png\")\nfig1.write_image(objectif_path, scale=6)\ncrop_to_half_size(objectif_path, objectif_path, margin_sides=300, margin_top=200)"
  },
  {
   "cell_type": "code",
   "execution_count": null,
   "metadata": {},
   "outputs": [],
   "source": [
    "import plotly.graph_objs as go\n",
    "import numpy as np\n",
    "import torch\n",
    "\n",
    "# Assuming GRID_RESOLUTION, model, and random_points are defined\n",
    "GRID_RESOLUTION = 50\n",
    "# Generate grid data for latitude and longitude\n",
    "longitude = np.linspace(-5, 10, num=GRID_RESOLUTION)\n",
    "latitude = np.linspace(41, 52, num=GRID_RESOLUTION)\n",
    "longitude_grid, latitude_grid = np.meshgrid(longitude, latitude)"
   ]
  },
  {
   "cell_type": "code",
   "execution_count": null,
   "metadata": {},
   "outputs": [],
   "source": "from scipy.spatial import cKDTree\n\n\ndef neural_net(longitude_grid, latitude_grid):\n    grid_points = torch.tensor(\n        np.c_[longitude_grid.ravel(), latitude_grid.ravel()], dtype=torch.float32\n    )\n    with torch.no_grad():\n        grid_predictions = model(grid_points).numpy().reshape(longitude_grid.shape)\n    grid_predictions = np.nan_to_num(grid_predictions, nan=1.0, posinf=1.0, neginf=0.0)\n    return grid_predictions\n\n\ndef underfitting_gaussian(longitude, latitude):\n    # Dummy prediction logic for the purpose of this illustration\n    # We'll just use a simple function that vaguely represents a decision boundary\n    return np.exp(-((longitude - 2) ** 2 + (latitude - 46) ** 2) / 30)\n\n\ndef nearest_neighbor(target_lon, target_lat):\n    # Create a KDTree for fast spatial search\n    tree = cKDTree(random_points[[\"latitude\", \"longitude\"]].values)\n\n    # Query the tree for the nearest point\n    dist, idx = tree.query([target_lat, target_lon])\n\n    # Return the row of the nearest neighbor\n    res = random_points.iloc[idx][\"in_france\"]\n    return res\n\n\nnearest_neighbor = np.vectorize(nearest_neighbor)\n\n\ndef overfitting_nearest_neightbor(target_lon, target_lat):\n    # Create a KDTree for fast spatial search\n    tree = cKDTree(random_points[[\"latitude\", \"longitude\"]].values)\n\n    # Query the tree for the nearest point\n    dist, idx = tree.query([target_lat, target_lon])\n\n    # Return the row of the nearest neighbor\n    if dist > 0.1:\n        return False\n    else:\n        res = random_points.iloc[idx][\"in_france\"]\n        return res\n\n\noverfitting_nearest_neightbor = np.vectorize(overfitting_nearest_neightbor)\n\n\nscene_config[\"zaxis\"][\"title\"] = \"Prédiction\"\n\ndictionnaire_fonctions = {\n    \"neural_net\": neural_net,\n    \"underfitting\": underfitting_gaussian,\n    # \"correct_fitting\": nearest_neighbor,\n    \"overfitting\": overfitting_nearest_neightbor,\n}\n\nfor name, function in dictionnaire_fonctions.items():\n    # Second figure: Surface plot\n    fig = go.Figure()\n\n    grid_predictions = function(longitude_grid, latitude_grid)\n\n    surface = go.Surface(\n        z=np.minimum(grid_predictions, 0.95),\n        x=longitude_grid,\n        y=latitude_grid,\n        cmin=0,\n        cmax=1.1,\n        opacity=1.0,  # Set opacity to 0.5 for 50% transparency\n        showscale=False,\n        # colorbar=dict(title=\"Prédiction du modèle\"),\n    )\n\n    fig.add_trace(surface)\n\n    fig.update_layout(scene=scene_config, height=700, width=900)\n    surface_path = get_output_path(\"png\")\n    # For multiple files, we need to create unique names\n    surface_path = surface_path.replace(\".png\", f\"_surface_{name}.png\")\n    fig.write_image(surface_path, scale=6, engine=\"kaleido\")\n    crop_to_half_size(\n        surface_path, surface_path, margin_sides=300, margin_top=200\n    )\n\n    print(f\"Figure for {name}:\")\n    fig.show()"
  },
  {
   "cell_type": "code",
   "execution_count": null,
   "metadata": {},
   "outputs": [],
   "source": []
  }
 ],
 "metadata": {
  "kernelspec": {
   "display_name": "test",
   "language": "python",
   "name": "test"
  },
  "language_info": {
   "codemirror_mode": {
    "name": "ipython",
    "version": 3
   },
   "file_extension": ".py",
   "mimetype": "text/x-python",
   "name": "python",
   "nbconvert_exporter": "python",
   "pygments_lexer": "ipython3",
   "version": "3.12.0"
  }
 },
 "nbformat": 4,
 "nbformat_minor": 2
}