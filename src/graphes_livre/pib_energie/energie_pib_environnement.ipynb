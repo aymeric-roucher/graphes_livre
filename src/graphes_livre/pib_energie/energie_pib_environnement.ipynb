{
 "cells": [
  {
   "cell_type": "markdown",
   "metadata": {},
   "source": [
    "### GDP Energy"
   ]
  },
  {
   "cell_type": "code",
   "execution_count": 1,
   "metadata": {},
   "outputs": [
    {
     "ename": "ModuleNotFoundError",
     "evalue": "No module named 'graphs'",
     "output_type": "error",
     "traceback": [
      "\u001b[31m---------------------------------------------------------------------------\u001b[39m",
      "\u001b[31mModuleNotFoundError\u001b[39m                       Traceback (most recent call last)",
      "\u001b[36mCell\u001b[39m\u001b[36m \u001b[39m\u001b[32mIn[1]\u001b[39m\u001b[32m, line 3\u001b[39m\n\u001b[32m      1\u001b[39m \u001b[38;5;28;01mimport\u001b[39;00m\u001b[38;5;250m \u001b[39m\u001b[34;01mpandas\u001b[39;00m\u001b[38;5;250m \u001b[39m\u001b[38;5;28;01mas\u001b[39;00m\u001b[38;5;250m \u001b[39m\u001b[34;01mpd\u001b[39;00m\n\u001b[32m      2\u001b[39m \u001b[38;5;28;01mimport\u001b[39;00m\u001b[38;5;250m \u001b[39m\u001b[34;01mplotly\u001b[39;00m\u001b[34;01m.\u001b[39;00m\u001b[34;01mexpress\u001b[39;00m\u001b[38;5;250m \u001b[39m\u001b[38;5;28;01mas\u001b[39;00m\u001b[38;5;250m \u001b[39m\u001b[34;01mpx\u001b[39;00m\n\u001b[32m----> \u001b[39m\u001b[32m3\u001b[39m \u001b[38;5;28;01mfrom\u001b[39;00m\u001b[38;5;250m \u001b[39m\u001b[34;01mgraphs\u001b[39;00m\u001b[38;5;250m \u001b[39m\u001b[38;5;28;01mimport\u001b[39;00m apply_template\n\u001b[32m      5\u001b[39m BEGIN_YEAR = \u001b[32m1965\u001b[39m\n",
      "\u001b[31mModuleNotFoundError\u001b[39m: No module named 'graphs'"
     ]
    }
   ],
   "source": [
    "import pandas as pd\n",
    "import plotly.express as px\n",
    "from graphs import apply_template\n",
    "\n",
    "BEGIN_YEAR = 1965"
   ]
  },
  {
   "cell_type": "code",
   "execution_count": null,
   "metadata": {},
   "outputs": [],
   "source": [
    "gdp = pd.read_csv(\"data/gdp.csv\", skiprows=3).drop(\n",
    "    [\"Country Code\", \"Indicator Code\", \"Indicator Name\"], axis=1\n",
    ")\n",
    "gdp = (\n",
    "    gdp.loc[gdp[\"Country Name\"] == \"World\"]\n",
    "    .T.drop([\"Country Name\", \"Unnamed: 68\"])[259]\n",
    "    .rename(\"gdp\")\n",
    "    .astype(float)\n",
    ")\n",
    "gdp.index = gdp.index.astype(int)\n",
    "gdp = gdp.loc[BEGIN_YEAR:]"
   ]
  },
  {
   "cell_type": "code",
   "execution_count": null,
   "metadata": {},
   "outputs": [],
   "source": [
    "energy = pd.read_csv(\"data/energy.csv\").set_index(\"Year\")"
   ]
  },
  {
   "cell_type": "code",
   "execution_count": null,
   "metadata": {},
   "outputs": [],
   "source": [
    "df = pd.concat([energy, gdp], axis=1)\n",
    "df.index.name = \"year\""
   ]
  },
  {
   "cell_type": "code",
   "execution_count": null,
   "metadata": {},
   "outputs": [],
   "source": [
    "co2 = pd.read_csv(\"data/co2-emissions-and-gdp.csv\")\n",
    "print(co2.columns)\n",
    "co2 = co2.loc[\n",
    "    co2[\"Entity\"] == \"World\",\n",
    "    [\"Year\", \"GDP, PPP (constant 2017 international $)\", \"Annual CO₂ emissions\"],\n",
    "].set_index(\"Year\")"
   ]
  },
  {
   "cell_type": "code",
   "execution_count": null,
   "metadata": {},
   "outputs": [],
   "source": [
    "df[\"co2\"] = co2[\"Annual CO₂ emissions\"]"
   ]
  },
  {
   "cell_type": "code",
   "execution_count": null,
   "metadata": {},
   "outputs": [],
   "source": [
    "df = df.reset_index()\n",
    "df[\"year\"] = df[\"year\"].astype(int)\n",
    "df = df.loc[df[\"year\"] >= 1980]"
   ]
  },
  {
   "cell_type": "code",
   "execution_count": null,
   "metadata": {},
   "outputs": [],
   "source": [
    "import plotly.graph_objects as go\n",
    "import numpy as np\n",
    "from scipy import stats\n",
    "\n",
    "# Assuming df is your existing dataframe\n",
    "# Make sure df is sorted by year\n",
    "df = df.sort_values(\"year\")\n",
    "\n",
    "x_column = \"gdp\"\n",
    "y_column = \"co2\"\n",
    "# Create the scatter plot\n",
    "\n",
    "fig = go.Figure(\n",
    "    go.Scatter(\n",
    "        x=df[x_column],\n",
    "        y=df[y_column],\n",
    "        mode=\"lines+markers\",  # This tells Plotly to draw both lines and markers\n",
    "        line=dict(color=\"black\", width=2),\n",
    "        marker=dict(\n",
    "            color=\"black\", size=5, symbol=\"circle\", line=dict(color=\"black\", width=2)\n",
    "        ),\n",
    "        showlegend=False,\n",
    "    )\n",
    ")\n",
    "\n",
    "# Add regression line\n",
    "slope, intercept, r_value, p_value, std_err = stats.linregress(\n",
    "    df[x_column], df[y_column]\n",
    ")\n",
    "line_x = np.array([df[x_column].min(), df[x_column].max()])\n",
    "line_y = slope * line_x + intercept\n",
    "print(line_x, line_y)\n",
    "fig.add_trace(\n",
    "    go.Scatter(\n",
    "        x=line_x,\n",
    "        y=line_y,\n",
    "        name=\"Ligne X = Y\",\n",
    "        line=dict(color=\"black\", dash=\"dash\"),\n",
    "        showlegend=True,\n",
    "        mode=\"lines\",\n",
    "    )\n",
    ")\n",
    "\n",
    "apply_template(fig)\n",
    "# years_to_annotate = list(range(1990, 2021, 10)) + [2023]\n",
    "# for year in years_to_annotate:\n",
    "#     year_data = df[df[\"year\"] == year]\n",
    "#     if not year_data.empty:\n",
    "#         fig.add_annotation(\n",
    "#             x=year_data[x_column].iloc[0],\n",
    "#             y=year_data[y_column].iloc[0],\n",
    "#             text=f\"{year:.0f}\",\n",
    "#             showarrow=False,\n",
    "#             yshift=10,\n",
    "#             font=dict(size=12),\n",
    "#         )\n",
    "\n",
    "# Update layout\n",
    "fig.update_layout(width=650, height=600)\n",
    "fig.update_xaxes(title=\"GDP in current USD\")\n",
    "fig.update_yaxes(title=\"CO2e emissions\")\n",
    "# Show the plot\n",
    "fig.show()"
   ]
  },
  {
   "cell_type": "code",
   "execution_count": null,
   "metadata": {},
   "outputs": [],
   "source": [
    "import pandas as pd\n",
    "import plotly.express as px\n",
    "import plotly.graph_objects as go\n",
    "import numpy as np\n",
    "from scipy import stats\n",
    "\n",
    "gdp_name = \"GDP, PPP (constant 2017 international $)\"\n",
    "co2_name = \"Annual CO₂ emissions\"\n",
    "\n",
    "# Assuming co2 is your existing dataframe\n",
    "# Make sure df is sorted by year\n",
    "co2 = co2.reset_index().set_index(\"Year\").sort_index()\n",
    "\n",
    "# Create the scatter plot\n",
    "\n",
    "fig = go.Figure(\n",
    "    go.Scatter(\n",
    "        x=co2[gdp_name],\n",
    "        y=co2[co2_name],\n",
    "        mode=\"lines+markers\",  # This tells Plotly to draw both lines and markers\n",
    "        line=dict(color=\"black\", width=2),\n",
    "        marker=dict(\n",
    "            color=\"black\", size=5, symbol=\"circle\", line=dict(color=\"black\", width=2)\n",
    "        ),\n",
    "        showlegend=False,\n",
    "    )\n",
    ")\n",
    "\n",
    "\n",
    "# Add regression line\n",
    "slope, intercept, r_value, p_value, std_err = stats.linregress(\n",
    "    co2[gdp_name], co2[co2_name]\n",
    ")\n",
    "line_x = np.array([co2[gdp_name].min(), co2[gdp_name].max()])\n",
    "line_y = slope * line_x + intercept\n",
    "\n",
    "fig.add_trace(\n",
    "    go.Scatter(\n",
    "        x=line_x,\n",
    "        y=line_y,\n",
    "        name=\"Ligne X = Y\",\n",
    "        line=dict(color=\"black\", dash=\"dash\"),\n",
    "        showlegend=False,\n",
    "        mode=\"lines+markers\",\n",
    "    )\n",
    ")\n",
    "\n",
    "# Update layout\n",
    "apply_template(fig)\n",
    "years_to_annotate = list(range(1990, 2021, 10))\n",
    "for year in years_to_annotate:\n",
    "    year_data = co2.loc[year]\n",
    "    fig.add_annotation(\n",
    "        x=year_data[gdp_name],\n",
    "        y=year_data[co2_name],\n",
    "        text=f\"{year:.0f}\",\n",
    "        yshift=30,\n",
    "        showarrow=False,\n",
    "        font=dict(size=14, color=\"grey\", weight=\"bold\"),\n",
    "    )\n",
    "fig.update_layout(width=700, height=600)\n",
    "fig.update_xaxes(title=\"PIB en dollars U.S. 2017\")\n",
    "fig.update_yaxes(title=\"Emissions de CO2e\")\n",
    "\n",
    "# Show the plot\n",
    "fig.show()"
   ]
  }
 ],
 "metadata": {
  "kernelspec": {
   "display_name": "test",
   "language": "python",
   "name": "test"
  },
  "language_info": {
   "codemirror_mode": {
    "name": "ipython",
    "version": 3
   },
   "file_extension": ".py",
   "mimetype": "text/x-python",
   "name": "python",
   "nbconvert_exporter": "python",
   "pygments_lexer": "ipython3",
   "version": "3.13.5"
  }
 },
 "nbformat": 4,
 "nbformat_minor": 2
}
