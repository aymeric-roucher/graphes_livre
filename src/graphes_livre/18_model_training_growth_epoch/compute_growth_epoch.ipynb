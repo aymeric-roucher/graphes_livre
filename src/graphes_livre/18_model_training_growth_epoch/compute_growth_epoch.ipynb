{
 "cells": [
  {
   "cell_type": "code",
   "execution_count": null,
   "id": "3f72f1e9",
   "metadata": {},
   "outputs": [],
   "source": "from utils import apply_template, SEA_BLUE, get_output_path\nimport pandas as pd\nimport plotly.graph_objects as go\nfrom datetime import datetime\n\ndf = pd.read_csv(\"data/notable_ai_models.csv\")\n\ndf = df.loc[df[\"Publication date\"] > \"2018-01-01\"]\n\ndf = df.sort_values(\"Publication date\")\ndf[\"Max compute until now\"] = df[\"Training compute (FLOP)\"].cummax()\ndf = df.loc[df[\"Training compute (FLOP)\"] >= df[\"Max compute until now\"] / 100]\n\nfig = go.Figure()\n\nfig.add_trace(\n    go.Scatter(\n        x=df[\"Publication date\"],\n        y=df[\"Training compute (FLOP)\"],\n        text=df[\"Model\"],\n        mode=\"markers\",\n        marker=dict(color=SEA_BLUE),\n    )\n)\n\nfig.update_layout(\n    xaxis=dict(\n        range=[datetime(2018, 7, 15), datetime(2025, 7, 30)],\n        tickvals=list(range(2018, 2026)),\n        tickformat=\"%Y\",\n    ),\n    yaxis=dict(\n        type=\"log\",\n        range=[20, 27],\n        dtick=1,\n        # tickvals=[1e18, 1e20, 1e22, 1e24],\n        # tickformat=\",.0f\",\n    ),\n)\n\napply_template(fig)\nfig.update_layout(\n    yaxis=dict(\n        title=\"Puissance d'entraînement (FLOP)\",\n        title_font_size=16,\n        # title_font_weight=\"bold\",\n        tickfont_size=12,\n    ),\n)\nfig.write_html(get_output_path(\"html\"))\nfig.show()"
  },
  {
   "cell_type": "code",
   "execution_count": null,
   "id": "cd43a408",
   "metadata": {},
   "outputs": [],
   "source": []
  }
 ],
 "metadata": {
  "kernelspec": {
   "display_name": "test",
   "language": "python",
   "name": "python3"
  },
  "language_info": {
   "codemirror_mode": {
    "name": "ipython",
    "version": 3
   },
   "file_extension": ".py",
   "mimetype": "text/x-python",
   "name": "python",
   "nbconvert_exporter": "python",
   "pygments_lexer": "ipython3",
   "version": "3.13.5"
  }
 },
 "nbformat": 4,
 "nbformat_minor": 5
}